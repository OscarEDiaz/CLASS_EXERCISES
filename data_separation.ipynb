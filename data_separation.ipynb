{
 "cells": [
  {
   "cell_type": "markdown",
   "metadata": {},
   "source": [
    "### Homework\n",
    "Imports"
   ]
  },
  {
   "cell_type": "code",
   "execution_count": 49,
   "metadata": {},
   "outputs": [],
   "source": [
    "from sklearn.datasets import load_breast_cancer\n",
    "from sklearn.model_selection import train_test_split\n",
    "from sklearn.tree import DecisionTreeClassifier\n",
    "import pandas as pd\n",
    "import numpy as np\n",
    "import math"
   ]
  },
  {
   "cell_type": "markdown",
   "metadata": {},
   "source": [
    "Separate attributes and classes names."
   ]
  },
  {
   "cell_type": "code",
   "execution_count": 50,
   "metadata": {},
   "outputs": [],
   "source": [
    "initial_set = pd.read_csv('./data/diabetes.csv')\n",
    "\n",
    "attributes = initial_set.columns[:-1]\n",
    "class_attribute = initial_set.columns[-1]\n",
    "\n",
    "classes_names = initial_set[initial_set.columns[-1]].drop_duplicates()"
   ]
  },
  {
   "cell_type": "markdown",
   "metadata": {},
   "source": [
    "Shuffle the dataset and then separate by classes."
   ]
  },
  {
   "cell_type": "code",
   "execution_count": 51,
   "metadata": {},
   "outputs": [],
   "source": [
    "# Shuffle set\n",
    "shuffledSet = initial_set.sample(frac=1)\n",
    "\n",
    "recs = {}\n",
    "\n",
    "# Separate by classes\n",
    "for record in shuffledSet.values:\n",
    "    class_name = record[-1]\n",
    "\n",
    "    if class_name not in recs:\n",
    "        recs[class_name] = []\n",
    "        recs[class_name].append(record)\n",
    "    else:\n",
    "        recs[class_name].append(record)"
   ]
  },
  {
   "cell_type": "markdown",
   "metadata": {},
   "source": [
    "Create test and training sets"
   ]
  },
  {
   "cell_type": "code",
   "execution_count": 52,
   "metadata": {},
   "outputs": [
    {
     "name": "stdout",
     "output_type": "stream",
     "text": [
      "Set lenght: 768\n",
      "Training set lenght: 614\n",
      "Testing set lenght: 154\n"
     ]
    }
   ],
   "source": [
    "training_set = []\n",
    "testing_set = []\n",
    "\n",
    "print(f'Set lenght: {len(initial_set)}')\n",
    "\n",
    "for key in recs:\n",
    "    set_lenght = len(recs[key])\n",
    "    top = math.floor(set_lenght* 0.8)\n",
    "\n",
    "    data = recs[key]\n",
    "\n",
    "    training = data[:top]\n",
    "    testing = data[top:set_lenght]\n",
    "    training_set += training\n",
    "    testing_set += testing\n",
    "\n",
    "print(f'Training set lenght: {len(training_set)}')\n",
    "print(f'Testing set lenght: {len(testing_set)}')\n",
    "\n",
    "# Convert to a data set\n",
    "columns = initial_set.columns.to_list()\n",
    "\n",
    "training_set = pd.DataFrame(training_set, columns=columns)\n",
    "testing_set = pd.DataFrame(testing_set, columns=columns)"
   ]
  },
  {
   "cell_type": "code",
   "execution_count": 53,
   "metadata": {},
   "outputs": [],
   "source": [
    "train_values = training_set[attributes]\n",
    "test_values  = testing_set[attributes]\n",
    "train_classes  = training_set[class_attribute]\n",
    "test_classes   = testing_set[class_attribute]"
   ]
  },
  {
   "cell_type": "code",
   "execution_count": 54,
   "metadata": {},
   "outputs": [],
   "source": [
    "classifier = DecisionTreeClassifier(max_depth=3)\n",
    "model = classifier.fit(train_values, train_classes)"
   ]
  },
  {
   "cell_type": "code",
   "execution_count": 55,
   "metadata": {},
   "outputs": [
    {
     "name": "stdout",
     "output_type": "stream",
     "text": [
      "Accuracy on training set: 0.795\n",
      "Accuracy on test set: 0.714\n"
     ]
    }
   ],
   "source": [
    "print(\"Accuracy on training set: {:.3f}\".format(model.score(train_values, train_classes)))\n",
    "print(\"Accuracy on test set: {:.3f}\".format(model.score(test_values, test_classes)))"
   ]
  }
 ],
 "metadata": {
  "kernelspec": {
   "display_name": "Python 3.11.5 ('class': venv)",
   "language": "python",
   "name": "python3"
  },
  "language_info": {
   "codemirror_mode": {
    "name": "ipython",
    "version": 3
   },
   "file_extension": ".py",
   "mimetype": "text/x-python",
   "name": "python",
   "nbconvert_exporter": "python",
   "pygments_lexer": "ipython3",
   "version": "3.11.5"
  },
  "orig_nbformat": 4,
  "vscode": {
   "interpreter": {
    "hash": "5774cd656d6d21e799187fbe3507bb4b6facc151f06332e151a85eaf2c8fc024"
   }
  }
 },
 "nbformat": 4,
 "nbformat_minor": 2
}
