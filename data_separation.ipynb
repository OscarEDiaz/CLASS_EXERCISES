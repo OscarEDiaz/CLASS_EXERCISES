{
 "cells": [
  {
   "cell_type": "markdown",
   "metadata": {},
   "source": [
    "### Homework\n",
    "Imports"
   ]
  },
  {
   "cell_type": "code",
   "execution_count": 97,
   "metadata": {},
   "outputs": [],
   "source": [
    "from sklearn.datasets import load_breast_cancer\n",
    "from sklearn.model_selection import train_test_split\n",
    "from sklearn.tree import DecisionTreeClassifier\n",
    "import pandas as pd\n",
    "import numpy as np\n",
    "import math"
   ]
  },
  {
   "cell_type": "markdown",
   "metadata": {},
   "source": [
    "Separate attributes and classes names."
   ]
  },
  {
   "cell_type": "code",
   "execution_count": 98,
   "metadata": {},
   "outputs": [],
   "source": [
    "initial_set = pd.read_csv('./data/diabetes.csv')\n",
    "\n",
    "attributes = initial_set.columns[:-1]\n",
    "class_attribute = initial_set.columns[-1]\n",
    "\n",
    "classes_names = initial_set[initial_set.columns[-1]].drop_duplicates()"
   ]
  },
  {
   "cell_type": "markdown",
   "metadata": {},
   "source": [
    "Shuffle the dataset and then separate by classes."
   ]
  },
  {
   "cell_type": "code",
   "execution_count": 99,
   "metadata": {},
   "outputs": [],
   "source": [
    "# Shuffle set\n",
    "shuffledSet = initial_set.sample(frac=1)\n",
    "\n",
    "recs = {}\n",
    "\n",
    "# Separate by classes\n",
    "for record in shuffledSet.values:\n",
    "    class_name = record[-1]\n",
    "\n",
    "    if class_name not in recs:\n",
    "        recs[class_name] = []\n",
    "        recs[class_name].append(record)\n",
    "    else:\n",
    "        recs[class_name].append(record)"
   ]
  },
  {
   "cell_type": "markdown",
   "metadata": {},
   "source": [
    "Create test and training sets"
   ]
  },
  {
   "cell_type": "code",
   "execution_count": 100,
   "metadata": {},
   "outputs": [
    {
     "name": "stdout",
     "output_type": "stream",
     "text": [
      "Training set lenght: 0\n",
      "Testing set lenght: 0\n"
     ]
    }
   ],
   "source": [
    "training_set = []\n",
    "testing_set = []\n",
    "\n",
    "for key in recs:\n",
    "    set_lenght = len(recs[key])\n",
    "    top = math.floor(set_lenght* 0.8)\n",
    "\n",
    "    data = recs[key]\n",
    "\n",
    "    training = data[top:set_lenght]\n",
    "    testing = data[top:]\n",
    "    training_set += training\n",
    "    testing_set += testing\n",
    "\n",
    "print(f'Training set lenght: {len(training_set)}')\n",
    "print(f'Testing set lenght: {len(testing_set)}')\n",
    "\n"
   ]
  },
  {
   "cell_type": "code",
   "execution_count": null,
   "metadata": {},
   "outputs": [],
   "source": []
  },
  {
   "cell_type": "code",
   "execution_count": null,
   "metadata": {},
   "outputs": [],
   "source": []
  }
 ],
 "metadata": {
  "kernelspec": {
   "display_name": "Python 3.11.5 ('class': venv)",
   "language": "python",
   "name": "python3"
  },
  "language_info": {
   "codemirror_mode": {
    "name": "ipython",
    "version": 3
   },
   "file_extension": ".py",
   "mimetype": "text/x-python",
   "name": "python",
   "nbconvert_exporter": "python",
   "pygments_lexer": "ipython3",
   "version": "3.11.5"
  },
  "orig_nbformat": 4,
  "vscode": {
   "interpreter": {
    "hash": "5774cd656d6d21e799187fbe3507bb4b6facc151f06332e151a85eaf2c8fc024"
   }
  }
 },
 "nbformat": 4,
 "nbformat_minor": 2
}
