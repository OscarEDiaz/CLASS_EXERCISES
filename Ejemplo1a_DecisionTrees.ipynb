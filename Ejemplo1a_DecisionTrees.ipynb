{
 "cells": [
  {
   "cell_type": "markdown",
   "id": "73196b83",
   "metadata": {},
   "source": [
    "# Decision Trees\n",
    "\n",
    "Ejemplo inicial dónde se muestra como es un proceso de entrenamiento de un modelo de aprendizaje sin considerar aspectos clave para el aprendizaje."
   ]
  },
  {
   "cell_type": "markdown",
   "id": "7f23f74e",
   "metadata": {},
   "source": [
    "\n",
    "from sklearn.datasets import load_breast_cancer\n",
    "from sklearn.model_selection import train_test_split\n",
    "from sklearn.tree import DecisionTreeClassifier\n",
    "\n",
    "cancer = load_breast_cancer()\n",
    "\n",
    "X_train, X_test, y_train, y_test = train_test_split(\n",
    "    cancer.data, cancer.target, stratify=cancer.target, train_size = 0.7,\n",
    "    test_size = 0.3, random_state=42)\n",
    "\n",
    "tree = DecisionTreeClassifier(random_state=0)\n",
    "tree.fit(X_train, y_train)\n",
    "print(\"Accuracy on training set: {:.3f}\".format(tree.score(X_train, y_train)))\n",
    "print(\"Accuracy on test set: {:.3f}\".format(tree.score(X_test, y_test)))"
   ]
  },
  {
   "cell_type": "markdown",
   "id": "b467df8e",
   "metadata": {},
   "source": [
    "### Ejemplo 2"
   ]
  },
  {
   "cell_type": "code",
   "execution_count": 1,
   "id": "2f685d9b",
   "metadata": {},
   "outputs": [],
   "source": [
    "import pandas as pd\n",
    "import numpy as np\n",
    "import math"
   ]
  },
  {
   "cell_type": "markdown",
   "id": "02e80601",
   "metadata": {},
   "source": [
    "¿Cómo definir adecuadamente el tamaño del conjunto training y test?"
   ]
  },
  {
   "cell_type": "code",
   "execution_count": 7,
   "id": "00da6cb4",
   "metadata": {},
   "outputs": [
    {
     "name": "stdout",
     "output_type": "stream",
     "text": [
      "class\n"
     ]
    }
   ],
   "source": [
    "#Leer los datos, nombre de los atributos y la clase\n",
    "setInicial=pd.read_csv('diabetes.csv')\n",
    "atributosName=setInicial.columns[:-1]\n",
    "atributoClase=setInicial.columns[-1]\n",
    "clasesName=setInicial[setInicial.columns[-1]].drop_duplicates()\n",
    "print(atributoClase)"
   ]
  },
  {
   "cell_type": "code",
   "execution_count": 10,
   "id": "6d0cb175",
   "metadata": {},
   "outputs": [
    {
     "data": {
      "text/html": [
       "<div>\n",
       "<style scoped>\n",
       "    .dataframe tbody tr th:only-of-type {\n",
       "        vertical-align: middle;\n",
       "    }\n",
       "\n",
       "    .dataframe tbody tr th {\n",
       "        vertical-align: top;\n",
       "    }\n",
       "\n",
       "    .dataframe thead th {\n",
       "        text-align: right;\n",
       "    }\n",
       "</style>\n",
       "<table border=\"1\" class=\"dataframe\">\n",
       "  <thead>\n",
       "    <tr style=\"text-align: right;\">\n",
       "      <th></th>\n",
       "      <th>preg</th>\n",
       "      <th>plas</th>\n",
       "      <th>pres</th>\n",
       "      <th>skin</th>\n",
       "      <th>insu</th>\n",
       "      <th>mass</th>\n",
       "      <th>pedi</th>\n",
       "      <th>age</th>\n",
       "      <th>class</th>\n",
       "    </tr>\n",
       "  </thead>\n",
       "  <tbody>\n",
       "    <tr>\n",
       "      <th>0</th>\n",
       "      <td>6</td>\n",
       "      <td>148</td>\n",
       "      <td>72</td>\n",
       "      <td>35</td>\n",
       "      <td>0</td>\n",
       "      <td>33.6</td>\n",
       "      <td>0.627</td>\n",
       "      <td>50</td>\n",
       "      <td>tested_positive</td>\n",
       "    </tr>\n",
       "    <tr>\n",
       "      <th>2</th>\n",
       "      <td>8</td>\n",
       "      <td>183</td>\n",
       "      <td>64</td>\n",
       "      <td>0</td>\n",
       "      <td>0</td>\n",
       "      <td>23.3</td>\n",
       "      <td>0.672</td>\n",
       "      <td>32</td>\n",
       "      <td>tested_positive</td>\n",
       "    </tr>\n",
       "    <tr>\n",
       "      <th>4</th>\n",
       "      <td>0</td>\n",
       "      <td>137</td>\n",
       "      <td>40</td>\n",
       "      <td>35</td>\n",
       "      <td>168</td>\n",
       "      <td>43.1</td>\n",
       "      <td>2.288</td>\n",
       "      <td>33</td>\n",
       "      <td>tested_positive</td>\n",
       "    </tr>\n",
       "    <tr>\n",
       "      <th>6</th>\n",
       "      <td>3</td>\n",
       "      <td>78</td>\n",
       "      <td>50</td>\n",
       "      <td>32</td>\n",
       "      <td>88</td>\n",
       "      <td>31.0</td>\n",
       "      <td>0.248</td>\n",
       "      <td>26</td>\n",
       "      <td>tested_positive</td>\n",
       "    </tr>\n",
       "    <tr>\n",
       "      <th>8</th>\n",
       "      <td>2</td>\n",
       "      <td>197</td>\n",
       "      <td>70</td>\n",
       "      <td>45</td>\n",
       "      <td>543</td>\n",
       "      <td>30.5</td>\n",
       "      <td>0.158</td>\n",
       "      <td>53</td>\n",
       "      <td>tested_positive</td>\n",
       "    </tr>\n",
       "    <tr>\n",
       "      <th>...</th>\n",
       "      <td>...</td>\n",
       "      <td>...</td>\n",
       "      <td>...</td>\n",
       "      <td>...</td>\n",
       "      <td>...</td>\n",
       "      <td>...</td>\n",
       "      <td>...</td>\n",
       "      <td>...</td>\n",
       "      <td>...</td>\n",
       "    </tr>\n",
       "    <tr>\n",
       "      <th>755</th>\n",
       "      <td>1</td>\n",
       "      <td>128</td>\n",
       "      <td>88</td>\n",
       "      <td>39</td>\n",
       "      <td>110</td>\n",
       "      <td>36.5</td>\n",
       "      <td>1.057</td>\n",
       "      <td>37</td>\n",
       "      <td>tested_positive</td>\n",
       "    </tr>\n",
       "    <tr>\n",
       "      <th>757</th>\n",
       "      <td>0</td>\n",
       "      <td>123</td>\n",
       "      <td>72</td>\n",
       "      <td>0</td>\n",
       "      <td>0</td>\n",
       "      <td>36.3</td>\n",
       "      <td>0.258</td>\n",
       "      <td>52</td>\n",
       "      <td>tested_positive</td>\n",
       "    </tr>\n",
       "    <tr>\n",
       "      <th>759</th>\n",
       "      <td>6</td>\n",
       "      <td>190</td>\n",
       "      <td>92</td>\n",
       "      <td>0</td>\n",
       "      <td>0</td>\n",
       "      <td>35.5</td>\n",
       "      <td>0.278</td>\n",
       "      <td>66</td>\n",
       "      <td>tested_positive</td>\n",
       "    </tr>\n",
       "    <tr>\n",
       "      <th>761</th>\n",
       "      <td>9</td>\n",
       "      <td>170</td>\n",
       "      <td>74</td>\n",
       "      <td>31</td>\n",
       "      <td>0</td>\n",
       "      <td>44.0</td>\n",
       "      <td>0.403</td>\n",
       "      <td>43</td>\n",
       "      <td>tested_positive</td>\n",
       "    </tr>\n",
       "    <tr>\n",
       "      <th>766</th>\n",
       "      <td>1</td>\n",
       "      <td>126</td>\n",
       "      <td>60</td>\n",
       "      <td>0</td>\n",
       "      <td>0</td>\n",
       "      <td>30.1</td>\n",
       "      <td>0.349</td>\n",
       "      <td>47</td>\n",
       "      <td>tested_positive</td>\n",
       "    </tr>\n",
       "  </tbody>\n",
       "</table>\n",
       "<p>268 rows × 9 columns</p>\n",
       "</div>"
      ],
      "text/plain": [
       "     preg  plas  pres  skin  insu  mass   pedi  age            class\n",
       "0       6   148    72    35     0  33.6  0.627   50  tested_positive\n",
       "2       8   183    64     0     0  23.3  0.672   32  tested_positive\n",
       "4       0   137    40    35   168  43.1  2.288   33  tested_positive\n",
       "6       3    78    50    32    88  31.0  0.248   26  tested_positive\n",
       "8       2   197    70    45   543  30.5  0.158   53  tested_positive\n",
       "..    ...   ...   ...   ...   ...   ...    ...  ...              ...\n",
       "755     1   128    88    39   110  36.5  1.057   37  tested_positive\n",
       "757     0   123    72     0     0  36.3  0.258   52  tested_positive\n",
       "759     6   190    92     0     0  35.5  0.278   66  tested_positive\n",
       "761     9   170    74    31     0  44.0  0.403   43  tested_positive\n",
       "766     1   126    60     0     0  30.1  0.349   47  tested_positive\n",
       "\n",
       "[268 rows x 9 columns]"
      ]
     },
     "execution_count": 10,
     "metadata": {},
     "output_type": "execute_result"
    }
   ],
   "source": [
    "set_positive = setInicial.loc[setInicial['class'] == clasesName[0]]\n",
    "set_negative = setInicial.loc[setInicial['class'] == clasesName[1]]\n",
    "set_positive"
   ]
  },
  {
   "cell_type": "code",
   "execution_count": 73,
   "id": "e7ce9966",
   "metadata": {},
   "outputs": [
    {
     "data": {
      "text/plain": [
       "230    0.001003\n",
       "295    0.002005\n",
       "279    0.002276\n",
       "569    0.003636\n",
       "729    0.003934\n",
       "         ...   \n",
       "734    0.990347\n",
       "651    0.992098\n",
       "437    0.993743\n",
       "222    0.994908\n",
       "155    0.999054\n",
       "Name: Tmp, Length: 768, dtype: float64"
      ]
     },
     "execution_count": 73,
     "metadata": {},
     "output_type": "execute_result"
    }
   ],
   "source": [
    "#Genera una columna con un número aleatorio\n",
    "setInicial['Tmp']=pd.DataFrame(np.random.rand(len(setInicial), 1))\n",
    "\n",
    "#Se ordenan por medio del atributo aleatorio para separarlos más adelante\n",
    "setInicial=setInicial.sort_values(by='Tmp')\n",
    "setInicial.pop('Tmp')"
   ]
  },
  {
   "cell_type": "code",
   "execution_count": 74,
   "id": "cdbcc7c6",
   "metadata": {},
   "outputs": [
    {
     "name": "stdout",
     "output_type": "stream",
     "text": [
      "768\n",
      "576\n"
     ]
    }
   ],
   "source": [
    "cont = 0\n",
    "Tope = math.floor(len(setInicial) * 0.8)\n",
    "print(len(setInicial))\n",
    "print(tope)"
   ]
  },
  {
   "cell_type": "code",
   "execution_count": 75,
   "id": "7b1ff3ee",
   "metadata": {},
   "outputs": [
    {
     "name": "stdout",
     "output_type": "stream",
     "text": [
      "Train:  614  intancias.\n",
      "Test:  154  instancias.\n"
     ]
    }
   ],
   "source": [
    "Train = setInicial.iloc[cont:Tope]\n",
    "Test = setInicial.iloc[Tope:len(setInicial)]\n",
    "print(\"Train: \",len(Train),\" intancias.\\nTest: \",len(Test),\" instancias.\")"
   ]
  },
  {
   "cell_type": "code",
   "execution_count": 76,
   "id": "1a06cc51",
   "metadata": {},
   "outputs": [],
   "source": [
    "#A PARTIR DE AQUÍ DE INICIA CON LA SEPARACIÓN Y CLASIFICACIÓN\n",
    "valoresTrain=Train[atributosName]\n",
    "valoresTest=Test[atributosName]\n",
    "clasesTrain=Train[atributoClase]\n",
    "clasesTest=Test[atributoClase]"
   ]
  },
  {
   "cell_type": "code",
   "execution_count": 77,
   "id": "7af60465",
   "metadata": {},
   "outputs": [],
   "source": [
    "clasificador = DecisionTreeClassifier(max_depth=3)\n",
    "modelo = clasificador.fit(valoresTrain, clasesTrain)"
   ]
  },
  {
   "cell_type": "code",
   "execution_count": 78,
   "id": "aaf52809",
   "metadata": {},
   "outputs": [
    {
     "name": "stdout",
     "output_type": "stream",
     "text": [
      "Accuracy on training set: 0.772\n",
      "Accuracy on test set: 0.773\n"
     ]
    }
   ],
   "source": [
    "print(\"Accuracy on training set: {:.3f}\".format(modelo.score(valoresTrain, clasesTrain)))\n",
    "print(\"Accuracy on test set: {:.3f}\".format(modelo.score(valoresTest, clasesTest)))"
   ]
  },
  {
   "cell_type": "code",
   "execution_count": null,
   "id": "267895f3",
   "metadata": {},
   "outputs": [],
   "source": []
  }
 ],
 "metadata": {
  "kernelspec": {
   "display_name": "Python 3 (ipykernel)",
   "language": "python",
   "name": "python3"
  },
  "language_info": {
   "codemirror_mode": {
    "name": "ipython",
    "version": 3
   },
   "file_extension": ".py",
   "mimetype": "text/x-python",
   "name": "python",
   "nbconvert_exporter": "python",
   "pygments_lexer": "ipython3",
   "version": "3.8.13"
  }
 },
 "nbformat": 4,
 "nbformat_minor": 5
}
