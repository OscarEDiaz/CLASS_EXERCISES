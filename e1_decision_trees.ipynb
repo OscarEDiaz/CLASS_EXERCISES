{
 "cells": [
  {
   "cell_type": "code",
   "execution_count": 26,
   "metadata": {},
   "outputs": [
    {
     "name": "stdout",
     "output_type": "stream",
     "text": [
      "Accuracy on training set: 1.000\n",
      "Accuracy on test set: 0.937\n"
     ]
    }
   ],
   "source": [
    "from sklearn.datasets import load_breast_cancer\n",
    "from sklearn.model_selection import train_test_split\n",
    "from sklearn.tree import DecisionTreeClassifier\n",
    "\n",
    "### Apdrendizaje supervisado\n",
    "cancer = load_breast_cancer()\n",
    "\n",
    "# Default splitting parameter 80/20 - 70/30\n",
    "X_train, X_test, y_train, y_test = train_test_split(cancer.data, cancer.target, stratify=cancer.target, random_state=42)\n",
    "\n",
    "# Modelo de clasificación\n",
    "tree = DecisionTreeClassifier(random_state=0)\n",
    "\n",
    "# Entrenar, conjunto de datos, conjutno de etiquetas\n",
    "tree.fit(X_train, y_train)\n",
    "\n",
    "print('Accuracy on training set: {:.3f}'.format(tree.score(X_train, y_train)))\n",
    "print('Accuracy on test set: {:.3f}'.format(tree.score(X_test, y_test)))"
   ]
  },
  {
   "cell_type": "markdown",
   "metadata": {},
   "source": [
    "# Ejemplo 2\n",
    "Importanciones necesarias"
   ]
  },
  {
   "cell_type": "code",
   "execution_count": 28,
   "metadata": {},
   "outputs": [],
   "source": [
    "import pandas as pd\n",
    "import numpy as np\n",
    "import math"
   ]
  },
  {
   "cell_type": "markdown",
   "metadata": {},
   "source": [
    "Separación de conjuntos training y set de forma estocástica"
   ]
  },
  {
   "cell_type": "code",
   "execution_count": 29,
   "metadata": {},
   "outputs": [
    {
     "name": "stdout",
     "output_type": "stream",
     "text": [
      "0    tested_positive\n",
      "1    tested_negative\n",
      "Name: class, dtype: object\n"
     ]
    }
   ],
   "source": [
    "setInicial=pd.read_csv('./data/diabetes.csv')\n",
    "atributosName=setInicial.columns[:-1]\n",
    "atributoClase=setInicial.columns[-1]\n",
    "clasesName=setInicial[setInicial.columns[-1]].drop_duplicates()\n",
    "print(clasesName)"
   ]
  },
  {
   "cell_type": "code",
   "execution_count": 30,
   "metadata": {},
   "outputs": [
    {
     "data": {
      "text/plain": [
       "426    0.002921\n",
       "678    0.005242\n",
       "212    0.005280\n",
       "454    0.007420\n",
       "123    0.013638\n",
       "         ...   \n",
       "606    0.995836\n",
       "569    0.997292\n",
       "315    0.998897\n",
       "57     0.999402\n",
       "707    0.999610\n",
       "Name: Tmp, Length: 768, dtype: float64"
      ]
     },
     "execution_count": 30,
     "metadata": {},
     "output_type": "execute_result"
    }
   ],
   "source": [
    "# Genera una columna con un número aleatorio\n",
    "setInicial['Tmp']=pd.DataFrame(np.random.rand(len(setInicial), 1))\n",
    "\n",
    "# Se ordenan por medio del atributo aleatorio para separarlos más adelante\n",
    "setInicial=setInicial.sort_values(by='Tmp')\n",
    "setInicial.pop('Tmp')"
   ]
  },
  {
   "cell_type": "code",
   "execution_count": 31,
   "metadata": {},
   "outputs": [
    {
     "name": "stdout",
     "output_type": "stream",
     "text": [
      "768\n",
      "614\n"
     ]
    }
   ],
   "source": [
    "cont = 0\n",
    "\n",
    "# Creación de conjunto training con un 80% del conjunto de datos\n",
    "TOPE = math.floor(len(setInicial) * 0.8)\n",
    "\n",
    "print(len(setInicial))\n",
    "print(TOPE)"
   ]
  },
  {
   "cell_type": "code",
   "execution_count": 32,
   "metadata": {},
   "outputs": [
    {
     "name": "stdout",
     "output_type": "stream",
     "text": [
      "Train 614 Instancias: \n",
      "Test:  154  instancias.\n"
     ]
    }
   ],
   "source": [
    "# Recuperar registros no indexados\n",
    "Train = setInicial.iloc[cont:TOPE]\n",
    "Test = setInicial.iloc[TOPE:len(setInicial)]\n",
    "print(\"Train\", len(Train), \"Instancias: \\nTest: \", len(Test), \" instancias.\")"
   ]
  }
 ],
 "metadata": {
  "kernelspec": {
   "display_name": "Python 3.11.5 ('class': venv)",
   "language": "python",
   "name": "python3"
  },
  "language_info": {
   "codemirror_mode": {
    "name": "ipython",
    "version": 3
   },
   "file_extension": ".py",
   "mimetype": "text/x-python",
   "name": "python",
   "nbconvert_exporter": "python",
   "pygments_lexer": "ipython3",
   "version": "3.11.5"
  },
  "orig_nbformat": 4,
  "vscode": {
   "interpreter": {
    "hash": "5774cd656d6d21e799187fbe3507bb4b6facc151f06332e151a85eaf2c8fc024"
   }
  }
 },
 "nbformat": 4,
 "nbformat_minor": 2
}
