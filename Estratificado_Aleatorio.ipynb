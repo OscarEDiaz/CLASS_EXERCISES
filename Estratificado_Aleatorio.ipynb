{
 "cells": [
  {
   "cell_type": "markdown",
   "id": "f12fb72e",
   "metadata": {},
   "source": [
    "###Estratificado aleatorio"
   ]
  },
  {
   "cell_type": "code",
   "execution_count": 1,
   "id": "a32b0d90",
   "metadata": {},
   "outputs": [],
   "source": [
    "import pandas as pd\n",
    "from pandas import Series,DataFrame\n",
    "import numpy as np\n",
    "from sklearn.tree import DecisionTreeClassifier\n",
    "from sklearn.metrics import classification_report"
   ]
  },
  {
   "cell_type": "code",
   "execution_count": 2,
   "id": "8c4ebcbe",
   "metadata": {},
   "outputs": [
    {
     "name": "stdout",
     "output_type": "stream",
     "text": [
      "0    tested_positive\n",
      "1    tested_negative\n",
      "Name: class, dtype: object\n"
     ]
    }
   ],
   "source": [
    "#Leer los datos, nombre de los atributos y la clase\n",
    "setInicial=pd.read_csv('diabetes.csv')\n",
    "atributosName=setInicial.columns[:-1]\n",
    "atributoClase=setInicial.columns[-1]\n",
    "clasesName=setInicial[setInicial.columns[-1]].drop_duplicates()\n",
    "print(clasesName)"
   ]
  },
  {
   "cell_type": "code",
   "execution_count": 3,
   "id": "61d2a9b7",
   "metadata": {},
   "outputs": [],
   "source": [
    "#Determinar el número de pliegues\n",
    "NumPliegues=6\n",
    "\n",
    "#Genera una columna con un número aleatorio\n",
    "setInicial['Tmp']=pd.DataFrame(np.random.rand(len(setInicial), 1))\n",
    "\n",
    "#Se ordenan por medio del atributo aleatorio para separarlos más adelante\n",
    "setInicial=setInicial.sort_values(by='Tmp')\n",
    "setInicial.pop('Tmp')\n",
    "\n",
    "#Calcular el número de instancias por pliegue\n",
    "Num=int(len(setInicial)/NumPliegues)"
   ]
  },
  {
   "cell_type": "code",
   "execution_count": 8,
   "id": "6e980fa5",
   "metadata": {},
   "outputs": [
    {
     "name": "stdout",
     "output_type": "stream",
     "text": [
      "Pliegue  1\n",
      "Train:  128  intancias.\n",
      "Test:  640  instancias.\n",
      "Pliegue  2\n",
      "Train:  128  intancias.\n",
      "Test:  640  instancias.\n",
      "Pliegue  3\n",
      "Train:  128  intancias.\n",
      "Test:  640  instancias.\n",
      "Pliegue  4\n",
      "Train:  128  intancias.\n",
      "Test:  640  instancias.\n",
      "Pliegue  5\n",
      "Train:  128  intancias.\n",
      "Test:  640  instancias.\n",
      "Pliegue  6\n",
      "Train:  128  intancias.\n",
      "Test:  640  instancias.\n",
      "0.7035914277293588 0.6661245711124425 0.6043547773125237\n"
     ]
    }
   ],
   "source": [
    "#en cada iteración se genera un train y test\n",
    "cont=0\n",
    "f1=[]\n",
    "for x in range(1,NumPliegues+1,1):\n",
    "  print(\"Pliegue \",x)\n",
    "  if x==NumPliegues:\n",
    "    Tope=len(setInicial)\n",
    "  else:\n",
    "    Tope=cont+Num\n",
    "  \n",
    "  #Generar el train de acuerdo a los índices de cada pliegue\n",
    "  Train=setInicial.iloc[cont:Tope]\n",
    "  #Generar el test, tomando como referencia los índices que no aparecen en el train\n",
    "  Test=pd.concat([setInicial.iloc[0:cont],setInicial.iloc[Tope:len(setInicial)]],axis=0)\n",
    "  print(\"Train: \",len(Train),\" intancias.\\nTest: \",len(Test),\" instancias.\")\n",
    "  cont+=Num\n",
    "\n",
    "  #A PARTIR DE AQUÍ DE INICIA CON LA SEPARACIÓN Y CLASIFICACIÓN\n",
    "  valoresTrain=Train[atributosName]\n",
    "  valoresTest=Test[atributosName]\n",
    "  clasesTrain=Train[atributoClase]\n",
    "  clasesTest=Test[atributoClase]\n",
    "\n",
    "  ################## Clasificador ######################\n",
    "  clasificador = DecisionTreeClassifier(max_depth=3)\n",
    "\n",
    "  ################## Modelo ###########################\n",
    "  modelo = clasificador.fit(valoresTrain, clasesTrain)\n",
    "\n",
    "  ################## Clasificar  #################\n",
    "  predict=modelo.predict(valoresTest)\n",
    "\n",
    "  ############ Evaluar ###############################\n",
    "  reporte=classification_report(clasesTest, predict, labels=clasesName, output_dict=True)\n",
    "\n",
    "  f1.append(reporte['macro avg']['f1-score'])\n",
    "print(max(f1),sum(f1)/len(f1),min(f1))"
   ]
  },
  {
   "cell_type": "code",
   "execution_count": null,
   "id": "62a81a5f",
   "metadata": {},
   "outputs": [],
   "source": []
  }
 ],
 "metadata": {
  "kernelspec": {
   "display_name": "Python 3.11.5 ('class': venv)",
   "language": "python",
   "name": "python3"
  },
  "language_info": {
   "codemirror_mode": {
    "name": "ipython",
    "version": 3
   },
   "file_extension": ".py",
   "mimetype": "text/x-python",
   "name": "python",
   "nbconvert_exporter": "python",
   "pygments_lexer": "ipython3",
   "version": "3.11.5"
  },
  "vscode": {
   "interpreter": {
    "hash": "5774cd656d6d21e799187fbe3507bb4b6facc151f06332e151a85eaf2c8fc024"
   }
  }
 },
 "nbformat": 4,
 "nbformat_minor": 5
}
